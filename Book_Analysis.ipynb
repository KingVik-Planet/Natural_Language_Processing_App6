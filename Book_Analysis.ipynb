{
 "cells": [
  {
   "cell_type": "markdown",
   "id": "49fc7649-2319-4a75-bca2-01d731368513",
   "metadata": {},
   "source": [
    "# Opening and Reading Files"
   ]
  },
  {
   "cell_type": "code",
   "execution_count": 2,
   "id": "bfb6a674-6a2d-419f-b535-3c606797b872",
   "metadata": {},
   "outputs": [],
   "source": [
    "with open(\"miracle_in_the_andes.txt\", \"r\", encoding=\"utf-8\") as file:\n",
    "    book = file.read()"
   ]
  },
  {
   "cell_type": "code",
   "execution_count": 3,
   "id": "b161a49c-421b-497e-9811-1d8d192955d0",
   "metadata": {},
   "outputs": [
    {
     "data": {
      "text/plain": [
       "str"
      ]
     },
     "execution_count": 3,
     "metadata": {},
     "output_type": "execute_result"
    }
   ],
   "source": [
    "type(book)"
   ]
  },
  {
   "cell_type": "markdown",
   "id": "e78f04bd-b413-4134-aad1-d3dc524a43f7",
   "metadata": {},
   "source": [
    "# How Many Chapters?"
   ]
  },
  {
   "cell_type": "code",
   "execution_count": 4,
   "id": "9a78adb6-15fe-42ec-9d02-6bb6e530fd88",
   "metadata": {},
   "outputs": [
    {
     "data": {
      "text/plain": [
       "11"
      ]
     },
     "execution_count": 4,
     "metadata": {},
     "output_type": "execute_result"
    }
   ],
   "source": [
    "book.count(\"Chapter\") "
   ]
  },
  {
   "cell_type": "markdown",
   "id": "6109ab3a-95dc-4a4a-942a-20e957c1c449",
   "metadata": {},
   "source": [
    "# With Regular Expresion (regex)"
   ]
  },
  {
   "cell_type": "code",
   "execution_count": 5,
   "id": "b98dcf75-61d1-4830-adbd-bd050ecd61b8",
   "metadata": {},
   "outputs": [],
   "source": [
    "import re # importing Modules "
   ]
  },
  {
   "cell_type": "code",
   "execution_count": 6,
   "id": "88746c08-0d9c-43c8-8bf1-0a4b1353feff",
   "metadata": {},
   "outputs": [
    {
     "data": {
      "text/plain": [
       "10"
      ]
     },
     "execution_count": 6,
     "metadata": {},
     "output_type": "execute_result"
    }
   ],
   "source": [
    "pattern = re.compile(\"Chapter [0-9]+\")\n",
    "findings = re.findall(pattern, book)\n",
    "len(findings)"
   ]
  },
  {
   "cell_type": "markdown",
   "id": "c9a24e9b-1a8f-4205-8ec0-ca03b2f740f5",
   "metadata": {},
   "source": [
    "# Which are the sentences with the word \"love\" in it?"
   ]
  },
  {
   "cell_type": "code",
   "execution_count": 7,
   "id": "6bf45db7-7610-49d1-8711-698969910c2d",
   "metadata": {},
   "outputs": [
    {
     "data": {
      "text/plain": [
       "52"
      ]
     },
     "execution_count": 7,
     "metadata": {},
     "output_type": "execute_result"
    }
   ],
   "source": [
    "pattern = re.compile(\"[a-zA-Z ]* love [a-zA-Z]*\") #^= not\n",
    "findings = re.findall(pattern, book)\n",
    "len(findings) # only (finding) brings the Sentnece\n",
    "#(findings)"
   ]
  },
  {
   "cell_type": "code",
   "execution_count": 8,
   "id": "4f65481a-4691-4868-97e8-0fe2953cf79a",
   "metadata": {},
   "outputs": [
    {
     "data": {
      "text/plain": [
       "67"
      ]
     },
     "execution_count": 8,
     "metadata": {},
     "output_type": "execute_result"
    }
   ],
   "source": [
    "pattern = re.compile(\"[^.]* love[^a-zA-Z]+[^.]*.\")\n",
    "findings = re.findall(pattern, book)\n",
    "len(findings) # only (finding) brings the Sentnece\n",
    "#(findings)"
   ]
  },
  {
   "cell_type": "code",
   "execution_count": 9,
   "id": "2829da11-64cc-4c35-97e6-a1af56563d06",
   "metadata": {},
   "outputs": [
    {
     "data": {
      "text/plain": [
       "5"
      ]
     },
     "execution_count": 9,
     "metadata": {},
     "output_type": "execute_result"
    }
   ],
   "source": [
    "pattern = re.compile(\"[A-Z]{1}[^a-zA-Z]+love[^a-zA-Z]+[^.]*.\")\n",
    "findings = re.findall(pattern, book)\n",
    "len(findings) # only (finding) brings the Sentnece\n",
    "#(findings)"
   ]
  },
  {
   "cell_type": "code",
   "execution_count": 10,
   "id": "dc1cabf1-922d-4bf5-9cd4-12caaf781e8a",
   "metadata": {},
   "outputs": [
    {
     "data": {
      "text/plain": [
       "5"
      ]
     },
     "execution_count": 10,
     "metadata": {},
     "output_type": "execute_result"
    }
   ],
   "source": [
    "pattern = re.compile(\"[A-Z]{1}[^a-zA-Z]+love[^a-zA-Z]+[^.]*.\")\n",
    "findings = re.findall(pattern, book)\n",
    "len(findings) # only (finding) brings the Sentnec"
   ]
  },
  {
   "cell_type": "markdown",
   "id": "e1d64e35-cb48-429d-ab9f-7e9247e74ab2",
   "metadata": {},
   "source": [
    "# What are most word used?"
   ]
  },
  {
   "cell_type": "code",
   "execution_count": 11,
   "id": "294ad5dd-350c-4e86-bc5f-c5866eb5021c",
   "metadata": {},
   "outputs": [
    {
     "data": {
      "text/plain": [
       "361731"
      ]
     },
     "execution_count": 11,
     "metadata": {},
     "output_type": "execute_result"
    }
   ],
   "source": [
    "pattern = re.compile(\"[a-zA-Z]\")\n",
    "findings = re.findall(pattern, book)\n",
    "len(findings) "
   ]
  },
  {
   "cell_type": "code",
   "execution_count": 13,
   "id": "7bf4b92a-3dde-4313-bb00-925e039f2e49",
   "metadata": {
    "scrolled": true
   },
   "outputs": [
    {
     "data": {
      "text/plain": [
       "['C', 'h', 'a', 'p', 't']"
      ]
     },
     "execution_count": 13,
     "metadata": {},
     "output_type": "execute_result"
    }
   ],
   "source": [
    "pattern = re.compile(\"[a-zA-Z]\")\n",
    "findings = re.findall(pattern, book)\n",
    "findings[:5]\n",
    "#len(findings) "
   ]
  },
  {
   "cell_type": "code",
   "execution_count": 14,
   "id": "525bd9c8-6643-4ba1-92ba-196970a87c91",
   "metadata": {},
   "outputs": [
    {
     "data": {
      "text/plain": [
       "86798"
      ]
     },
     "execution_count": 14,
     "metadata": {},
     "output_type": "execute_result"
    }
   ],
   "source": [
    "pattern = re.compile(\"[a-zA-Z]+\")\n",
    "findings = re.findall(pattern, book)\n",
    "findings\n",
    "len(findings)"
   ]
  },
  {
   "cell_type": "code",
   "execution_count": 16,
   "id": "a9930959-9a70-48cd-9722-d8f14720adcd",
   "metadata": {},
   "outputs": [
    {
     "data": {
      "text/plain": [
       "['chapter', 'before', 'it', 'was', 'friday']"
      ]
     },
     "execution_count": 16,
     "metadata": {},
     "output_type": "execute_result"
    }
   ],
   "source": [
    "pattern = re.compile(\"[a-zA-Z]+\")\n",
    "findings = re.findall(pattern, book.lower())\n",
    "findings[:5]"
   ]
  },
  {
   "cell_type": "code",
   "execution_count": null,
   "id": "8d0deab5-eaa1-4bb4-9dbd-a220489bf14c",
   "metadata": {},
   "outputs": [],
   "source": [
    "d  = {}\n",
    "for word in findings:\n",
    "    if word in d.keys():\n",
    "        d[word] = d[word] + 1\n",
    "    else:\n",
    "        d[word] = 1\n",
    "d"
   ]
  },
  {
   "cell_type": "code",
   "execution_count": null,
   "id": "6ae217e3-16b3-42f2-8273-63d1b790becc",
   "metadata": {},
   "outputs": [],
   "source": [
    "d_list = [(value, key) for (key, value) in d.items()]\n",
    "sorted(d_list, reverse = True)"
   ]
  },
  {
   "cell_type": "code",
   "execution_count": null,
   "id": "7e87758d-b4e8-453c-81da-bf7969debb20",
   "metadata": {},
   "outputs": [],
   "source": []
  },
  {
   "cell_type": "code",
   "execution_count": 1,
   "id": "80a06d3b-03fb-4cb5-91fa-2d84fbe2cecd",
   "metadata": {},
   "outputs": [
    {
     "data": {
      "text/plain": [
       "'3.11.1'"
      ]
     },
     "execution_count": 1,
     "metadata": {},
     "output_type": "execute_result"
    }
   ],
   "source": [
    "from platform import python_version\n",
    "\n",
    "python_version()"
   ]
  },
  {
   "cell_type": "code",
   "execution_count": null,
   "id": "a12e3e44-95d0-44de-be39-7613ca7156dd",
   "metadata": {},
   "outputs": [],
   "source": []
  }
 ],
 "metadata": {
  "kernelspec": {
   "display_name": "Python 3 (ipykernel)",
   "language": "python",
   "name": "python3"
  },
  "language_info": {
   "codemirror_mode": {
    "name": "ipython",
    "version": 3
   },
   "file_extension": ".py",
   "mimetype": "text/x-python",
   "name": "python",
   "nbconvert_exporter": "python",
   "pygments_lexer": "ipython3",
   "version": "3.11.1"
  }
 },
 "nbformat": 4,
 "nbformat_minor": 5
}
