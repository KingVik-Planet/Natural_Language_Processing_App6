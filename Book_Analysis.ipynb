{
 "cells": [
  {
   "cell_type": "code",
   "execution_count": 13,
   "id": "bfb6a674-6a2d-419f-b535-3c606797b872",
   "metadata": {},
   "outputs": [],
   "source": [
    "with open(\"miracle_in_the_andes.txt\", \"r\", encoding=\"utf-8\") as file:\n",
    "    book = file.read()"
   ]
  },
  {
   "cell_type": "code",
   "execution_count": 14,
   "id": "b161a49c-421b-497e-9811-1d8d192955d0",
   "metadata": {},
   "outputs": [
    {
     "data": {
      "text/plain": [
       "str"
      ]
     },
     "execution_count": 14,
     "metadata": {},
     "output_type": "execute_result"
    }
   ],
   "source": [
    "type(book)"
   ]
  },
  {
   "cell_type": "markdown",
   "id": "e78f04bd-b413-4134-aad1-d3dc524a43f7",
   "metadata": {},
   "source": [
    "#How amny CHateras?"
   ]
  },
  {
   "cell_type": "code",
   "execution_count": 17,
   "id": "9a78adb6-15fe-42ec-9d02-6bb6e530fd88",
   "metadata": {},
   "outputs": [
    {
     "data": {
      "text/plain": [
       "11"
      ]
     },
     "execution_count": 17,
     "metadata": {},
     "output_type": "execute_result"
    }
   ],
   "source": [
    "book.count(\"Chapter\")"
   ]
  },
  {
   "cell_type": "markdown",
   "id": "01bcb6b5-5033-407f-9356-658eb77a1670",
   "metadata": {},
   "source": [
    "#With Reguslarr Expresioon (regex)"
   ]
  },
  {
   "cell_type": "code",
   "execution_count": 18,
   "id": "b98dcf75-61d1-4830-adbd-bd050ecd61b8",
   "metadata": {},
   "outputs": [],
   "source": [
    "import re"
   ]
  },
  {
   "cell_type": "code",
   "execution_count": 21,
   "id": "88746c08-0d9c-43c8-8bf1-0a4b1353feff",
   "metadata": {},
   "outputs": [
    {
     "data": {
      "text/plain": [
       "10"
      ]
     },
     "execution_count": 21,
     "metadata": {},
     "output_type": "execute_result"
    }
   ],
   "source": [
    "pattern = re.compile(\"Chapter [0-9]+\")\n",
    "findings = re.findall(pattern, book)\n",
    "len(findings)"
   ]
  },
  {
   "cell_type": "markdown",
   "id": "c9a24e9b-1a8f-4205-8ec0-ca03b2f740f5",
   "metadata": {},
   "source": [
    "## Which are the sentences with the word \"love\" in it?"
   ]
  },
  {
   "cell_type": "code",
   "execution_count": 29,
   "id": "6bf45db7-7610-49d1-8711-698969910c2d",
   "metadata": {},
   "outputs": [
    {
     "data": {
      "text/plain": [
       "52"
      ]
     },
     "execution_count": 29,
     "metadata": {},
     "output_type": "execute_result"
    }
   ],
   "source": [
    "pattern = re.compile(\"[a-zA-Z ]* love [a-zA-Z]*\")\n",
    "findings = re.findall(pattern, book)\n",
    "len(findings) # only (finding) brings the Sentnece\n",
    "#(findings)"
   ]
  },
  {
   "cell_type": "code",
   "execution_count": 34,
   "id": "4f65481a-4691-4868-97e8-0fe2953cf79a",
   "metadata": {},
   "outputs": [
    {
     "data": {
      "text/plain": [
       "67"
      ]
     },
     "execution_count": 34,
     "metadata": {},
     "output_type": "execute_result"
    }
   ],
   "source": [
    "pattern = re.compile(\"[^.]* love[^a-zA-Z]+[^.]*.\")\n",
    "findings = re.findall(pattern, book)\n",
    "len(findings) # only (finding) brings the Sentnece\n",
    "#(findings)"
   ]
  },
  {
   "cell_type": "code",
   "execution_count": 37,
   "id": "2829da11-64cc-4c35-97e6-a1af56563d06",
   "metadata": {},
   "outputs": [
    {
     "data": {
      "text/plain": [
       "5"
      ]
     },
     "execution_count": 37,
     "metadata": {},
     "output_type": "execute_result"
    }
   ],
   "source": [
    "pattern = re.compile(\"[A-Z]{1}[^a-zA-Z]+love[^a-zA-Z]+[^.]*.\")\n",
    "findings = re.findall(pattern, book)\n",
    "len(findings) # only (finding) brings the Sentnece\n",
    "#(findings)"
   ]
  },
  {
   "cell_type": "code",
   "execution_count": null,
   "id": "dc1cabf1-922d-4bf5-9cd4-12caaf781e8a",
   "metadata": {},
   "outputs": [],
   "source": []
  }
 ],
 "metadata": {
  "kernelspec": {
   "display_name": "Python 3 (ipykernel)",
   "language": "python",
   "name": "python3"
  },
  "language_info": {
   "codemirror_mode": {
    "name": "ipython",
    "version": 3
   },
   "file_extension": ".py",
   "mimetype": "text/x-python",
   "name": "python",
   "nbconvert_exporter": "python",
   "pygments_lexer": "ipython3",
   "version": "3.11.1"
  }
 },
 "nbformat": 4,
 "nbformat_minor": 5
}
