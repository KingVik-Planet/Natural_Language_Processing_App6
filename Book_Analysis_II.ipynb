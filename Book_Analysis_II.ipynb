{
 "cells": [
  {
   "cell_type": "markdown",
   "id": "18b61c09-ed67-433d-a3e2-97c16e129e51",
   "metadata": {},
   "source": [
    "# Load the Book"
   ]
  },
  {
   "cell_type": "code",
   "execution_count": 2,
   "id": "33ad62a9-0d7b-457f-b421-5c316891a801",
   "metadata": {},
   "outputs": [],
   "source": [
    "with open(\"miracle_in_the_andes.txt\", \"r\", encoding=\"utf-8\") as file:\n",
    "    book = file.read()"
   ]
  },
  {
   "cell_type": "code",
   "execution_count": 3,
   "id": "0404bdc0-c268-4e16-9ebe-9f64807f67da",
   "metadata": {},
   "outputs": [
    {
     "data": {
      "text/plain": [
       "str"
      ]
     },
     "execution_count": 3,
     "metadata": {},
     "output_type": "execute_result"
    }
   ],
   "source": [
    "type(book)"
   ]
  },
  {
   "cell_type": "markdown",
   "id": "4fde00d9-5377-4923-98db-953996a7408b",
   "metadata": {},
   "source": [
    "# Numbers of Chapters"
   ]
  },
  {
   "cell_type": "code",
   "execution_count": 4,
   "id": "1b449646-0663-43c3-aac6-6b6b05c1c191",
   "metadata": {},
   "outputs": [
    {
     "data": {
      "text/plain": [
       "11"
      ]
     },
     "execution_count": 4,
     "metadata": {},
     "output_type": "execute_result"
    }
   ],
   "source": [
    "book.count(\"Chapter\") "
   ]
  },
  {
   "cell_type": "markdown",
   "id": "5c2151d8-f4ef-4fe6-a65d-81ad3d3e151a",
   "metadata": {},
   "source": [
    "# With Regular Expression (regex)"
   ]
  },
  {
   "cell_type": "code",
   "execution_count": 14,
   "id": "79f38e38-7ba1-4a8a-a404-2a9003002905",
   "metadata": {},
   "outputs": [],
   "source": [
    "import re"
   ]
  },
  {
   "cell_type": "code",
   "execution_count": 15,
   "id": "67efd381-694a-4a1e-8c15-81992e5086d7",
   "metadata": {},
   "outputs": [
    {
     "data": {
      "text/plain": [
       "['chapter', 'before', 'it', 'was', 'friday']"
      ]
     },
     "execution_count": 15,
     "metadata": {},
     "output_type": "execute_result"
    }
   ],
   "source": [
    "pattern = re.compile(\"[a-zA-Z]+\")\n",
    "findings = re.findall(pattern, book.lower())\n",
    "findings[:5]"
   ]
  },
  {
   "cell_type": "code",
   "execution_count": null,
   "id": "9e20f05f-f6cc-40e6-a93b-15c91cbba6f2",
   "metadata": {},
   "outputs": [],
   "source": [
    "d  = {}\n",
    "for word in findings:\n",
    "    if word in d.keys():\n",
    "        d[word] = d[word] + 1\n",
    "    else:\n",
    "        d[word] = 1\n",
    "        \n",
    "d"
   ]
  },
  {
   "cell_type": "code",
   "execution_count": 22,
   "id": "d7950356-efd6-464b-831a-fe63e7bb2a2b",
   "metadata": {},
   "outputs": [
    {
     "data": {
      "text/plain": [
       "[(1430, 'was'), (800, 'it'), (93, 'before'), (11, 'chapter'), (1, 'friday')]"
      ]
     },
     "execution_count": 22,
     "metadata": {},
     "output_type": "execute_result"
    }
   ],
   "source": [
    "d_list = [(value, key) for (key, value) in d.items()]\n",
    "sorted(d_list[:5], reverse = True)"
   ]
  },
  {
   "cell_type": "markdown",
   "id": "89e1fb15-8a9e-4577-a2a5-5c3c60d76e4f",
   "metadata": {},
   "source": [
    "# Checking python Version"
   ]
  },
  {
   "cell_type": "code",
   "execution_count": 5,
   "id": "f9aa39d0-6e15-43f0-8148-7ae6abbf1f6f",
   "metadata": {},
   "outputs": [
    {
     "data": {
      "text/plain": [
       "'3.11.1'"
      ]
     },
     "execution_count": 5,
     "metadata": {},
     "output_type": "execute_result"
    }
   ],
   "source": [
    "from platform import python_version\n",
    "\n",
    "python_version()"
   ]
  },
  {
   "cell_type": "markdown",
   "id": "c02959d4-912c-4fde-9219-631e8e2ddfcd",
   "metadata": {},
   "source": [
    "# Installing nltk libray"
   ]
  },
  {
   "cell_type": "code",
   "execution_count": 7,
   "id": "561f8298-8cdc-4042-8ded-9b39ca0f65ab",
   "metadata": {},
   "outputs": [
    {
     "name": "stdout",
     "output_type": "stream",
     "text": [
      "Requirement already satisfied: nltk in c:\\users\\kingvik planet\\pycharmprojects\\newsapi\\natural_language_processing_app6\\lib\\site-packages (3.8.1)\n",
      "Requirement already satisfied: click in c:\\users\\kingvik planet\\pycharmprojects\\newsapi\\natural_language_processing_app6\\lib\\site-packages (from nltk) (8.1.7)\n",
      "Requirement already satisfied: joblib in c:\\users\\kingvik planet\\pycharmprojects\\newsapi\\natural_language_processing_app6\\lib\\site-packages (from nltk) (1.3.2)\n",
      "Requirement already satisfied: regex>=2021.8.3 in c:\\users\\kingvik planet\\pycharmprojects\\newsapi\\natural_language_processing_app6\\lib\\site-packages (from nltk) (2023.12.25)\n",
      "Requirement already satisfied: tqdm in c:\\users\\kingvik planet\\pycharmprojects\\newsapi\\natural_language_processing_app6\\lib\\site-packages (from nltk) (4.66.2)\n",
      "Requirement already satisfied: colorama in c:\\users\\kingvik planet\\pycharmprojects\\newsapi\\natural_language_processing_app6\\lib\\site-packages (from click->nltk) (0.4.6)\n"
     ]
    }
   ],
   "source": [
    "!pip3.11 install nltk"
   ]
  },
  {
   "cell_type": "code",
   "execution_count": 10,
   "id": "50739f7a-a608-4c56-bc2e-3370907d73f5",
   "metadata": {},
   "outputs": [
    {
     "name": "stderr",
     "output_type": "stream",
     "text": [
      "[nltk_data] Downloading package stopwords to C:\\Users\\KingVik\n",
      "[nltk_data]     Planet\\AppData\\Roaming\\nltk_data...\n",
      "[nltk_data]   Package stopwords is already up-to-date!\n"
     ]
    },
    {
     "data": {
      "text/plain": [
       "True"
      ]
     },
     "execution_count": 10,
     "metadata": {},
     "output_type": "execute_result"
    }
   ],
   "source": [
    "import nltk\n",
    "nltk.download('stopwords')"
   ]
  },
  {
   "cell_type": "code",
   "execution_count": 13,
   "id": "0dd4d167-b63d-4e11-9512-3f6514ce1253",
   "metadata": {},
   "outputs": [],
   "source": [
    "from nltk.corpus import stopwords\n",
    "english_stopwords = stopwords.words(\"english\")"
   ]
  },
  {
   "cell_type": "code",
   "execution_count": null,
   "id": "8dc88334-f695-4e99-8cff-c5cadf2a48e7",
   "metadata": {},
   "outputs": [],
   "source": []
  }
 ],
 "metadata": {
  "kernelspec": {
   "display_name": "Python 3 (ipykernel)",
   "language": "python",
   "name": "python3"
  },
  "language_info": {
   "codemirror_mode": {
    "name": "ipython",
    "version": 3
   },
   "file_extension": ".py",
   "mimetype": "text/x-python",
   "name": "python",
   "nbconvert_exporter": "python",
   "pygments_lexer": "ipython3",
   "version": "3.11.1"
  }
 },
 "nbformat": 4,
 "nbformat_minor": 5
}
